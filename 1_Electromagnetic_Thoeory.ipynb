{
 "cells": [
  {
   "cell_type": "markdown",
   "id": "8a285b8b-8657-4d39-8ba3-8e0329615a1e",
   "metadata": {},
   "source": [
    "<h1>Maxwell Equation's</h1>"
   ]
  },
  {
   "cell_type": "markdown",
   "id": "f4d3157e-6ee6-450f-82f4-0e733dc0ac33",
   "metadata": {},
   "source": [
    "$\n",
    "\\nabla \\times \\mathbf{E} = -\\frac{\\partial \\mathbf{B}}{\\partial t} - \\mathbf{M}\n",
    "$"
   ]
  },
  {
   "cell_type": "markdown",
   "id": "18c9e5f5-0354-4121-82b3-d5493624e657",
   "metadata": {},
   "source": [
    "![Maxwell Equation](asset_1/1_maxwell_equation.PNG)"
   ]
  },
  {
   "cell_type": "code",
   "execution_count": null,
   "id": "360954e9-c38d-48a1-9eec-adbaeeebb607",
   "metadata": {},
   "outputs": [],
   "source": []
  }
 ],
 "metadata": {
  "kernelspec": {
   "display_name": "Python 3 (ipykernel)",
   "language": "python",
   "name": "python3"
  },
  "language_info": {
   "codemirror_mode": {
    "name": "ipython",
    "version": 3
   },
   "file_extension": ".py",
   "mimetype": "text/x-python",
   "name": "python",
   "nbconvert_exporter": "python",
   "pygments_lexer": "ipython3",
   "version": "3.11.7"
  }
 },
 "nbformat": 4,
 "nbformat_minor": 5
}
